{
 "cells": [
  {
   "cell_type": "code",
   "execution_count": 1,
   "id": "1397e302-aa4f-475b-93f2-2ef4bffccc87",
   "metadata": {},
   "outputs": [],
   "source": [
    "import os \n",
    "from tensorflow.keras.models import load_model\n",
    "import cv2\n",
    "import numpy as np\n",
    "import pandas as pd"
   ]
  },
  {
   "cell_type": "code",
   "execution_count": 2,
   "id": "52fe83d5-f2cc-499c-91b7-e6ec9015cc6e",
   "metadata": {},
   "outputs": [
    {
     "data": {
      "text/plain": [
       "['.ipynb_checkpoints',\n",
       " 'Code',\n",
       " 'multi_label_heart_risk_model.keras',\n",
       " 'multi_label_heart_risk_model_second.keras']"
      ]
     },
     "execution_count": 2,
     "metadata": {},
     "output_type": "execute_result"
    }
   ],
   "source": [
    "os.chdir(r\"E:\\Project\\Material\\Code\")\n",
    "os.listdir()"
   ]
  },
  {
   "cell_type": "code",
   "execution_count": 3,
   "id": "7610f47b-85cc-4e05-a628-82af95255c87",
   "metadata": {},
   "outputs": [],
   "source": [
    "model=load_model(\"multi_label_heart_risk_model.keras\")"
   ]
  },
  {
   "cell_type": "code",
   "execution_count": 4,
   "id": "854741cd-14be-4b57-8c33-23910020a09e",
   "metadata": {},
   "outputs": [],
   "source": [
    "# Load test CSV\n",
    "test_df = pd.read_csv(r\"E:\\Project\\Material\\Test_Set\\Test_Set\\RFMiD_Testing_Labels.csv\")\n",
    "test_df[\"ID\"] = test_df[\"ID\"].astype(str) + \".png\"\n",
    "test_image_folder = r\"E:\\Project\\Material\\Test_Set\\Test_Set\\Test\""
   ]
  },
  {
   "cell_type": "code",
   "execution_count": 5,
   "id": "1329376e-cf4e-434c-94c8-f2b9304a58bf",
   "metadata": {},
   "outputs": [
    {
     "name": "stdout",
     "output_type": "stream",
     "text": [
      "\u001b[1m1/1\u001b[0m \u001b[32m━━━━━━━━━━━━━━━━━━━━\u001b[0m\u001b[37m\u001b[0m \u001b[1m1s\u001b[0m 656ms/step\n",
      "Predicted Labels:\n",
      "Disease_Risk: Positive (Probability: 0.7473)\n"
     ]
    }
   ],
   "source": [
    "# Define the prediction function\n",
    "def predict_single_image(image_path, model, label_names, target_size=(224, 224)):\n",
    "    img = cv2.imread(image_path)\n",
    "    if img is None:\n",
    "        print(f\"Error: Could not load image at {image_path}\")\n",
    "        return\n",
    "    img = cv2.cvtColor(img, cv2.COLOR_BGR2RGB)\n",
    "    img = cv2.resize(img, target_size)\n",
    "    img = img / 255.0\n",
    "    img = np.expand_dims(img, axis=0)\n",
    "\n",
    "    predictions = model.predict(img)[0]\n",
    "    predicted_labels = (predictions > 0.5).astype(int)\n",
    "\n",
    "    print(\"Predicted Labels:\")\n",
    "    for label, pred, prob in zip(label_names, predicted_labels, predictions):\n",
    "        if pred == 1:\n",
    "            print(f\"{label}: Positive (Probability: {prob:.4f})\")\n",
    "\n",
    "# Example usage\n",
    "image_path = r'E:\\28.png'  # Replace with your actual image path\n",
    "label_names = test_df.columns[1:].tolist()  # Assuming test_df is defined with 46 label columns\n",
    "predict_single_image(image_path, model, label_names)"
   ]
  },
  {
   "cell_type": "code",
   "execution_count": 6,
   "id": "b88be4ca-8f86-413d-a68c-5404de55be98",
   "metadata": {},
   "outputs": [
    {
     "name": "stdout",
     "output_type": "stream",
     "text": [
      "\u001b[1m1/1\u001b[0m \u001b[32m━━━━━━━━━━━━━━━━━━━━\u001b[0m\u001b[37m\u001b[0m \u001b[1m0s\u001b[0m 153ms/step\n",
      "Predicted Labels:\n",
      "Disease_Risk: Positive (Probability: 0.9278)\n",
      "ODC: Positive (Probability: 0.5075)\n"
     ]
    }
   ],
   "source": [
    "def predict_single_image(image_path, model, label_names, target_size=(224, 224)):\n",
    "    img = cv2.imread(image_path)\n",
    "    img = cv2.cvtColor(img, cv2.COLOR_BGR2RGB)\n",
    "    img = cv2.resize(img, target_size)\n",
    "    img = img / 255.0\n",
    "    img = np.expand_dims(img, axis=0)\n",
    "\n",
    "    predictions = model.predict(img)[0]\n",
    "    predicted_labels = (predictions > 0.5).astype(int)\n",
    "\n",
    "    print(\"Predicted Labels:\")\n",
    "    for label, pred, prob in zip(label_names, predicted_labels, predictions):\n",
    "        if pred == 1:\n",
    "            print(f\"{label}: Positive (Probability: {prob:.4f})\")\n",
    "\n",
    "# Example usage\n",
    "image_path = r'E:\\OIP.jpeg'\n",
    "label_names = test_df.columns[1:].tolist()\n",
    "predict_single_image(image_path, model, label_names)"
   ]
  },
  {
   "cell_type": "code",
   "execution_count": null,
   "id": "8d53ec33-2bcb-4151-bebc-fa7406c7967b",
   "metadata": {},
   "outputs": [],
   "source": []
  }
 ],
 "metadata": {
  "kernelspec": {
   "display_name": "Python 3 (ipykernel)",
   "language": "python",
   "name": "python3"
  },
  "language_info": {
   "codemirror_mode": {
    "name": "ipython",
    "version": 3
   },
   "file_extension": ".py",
   "mimetype": "text/x-python",
   "name": "python",
   "nbconvert_exporter": "python",
   "pygments_lexer": "ipython3",
   "version": "3.12.7"
  }
 },
 "nbformat": 4,
 "nbformat_minor": 5
}
